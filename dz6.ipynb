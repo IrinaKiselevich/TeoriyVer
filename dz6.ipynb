{
 "cells": [
  {
   "cell_type": "markdown",
   "id": "f5abd73c",
   "metadata": {},
   "source": [
    "Задача 1. Известно, что генеральная совокупность распределена нормально\n",
    "со средним квадратическим отклонением, равным 16.\n",
    "Найти доверительный интервал для оценки математического ожидания с надежностью\n",
    "0.95,\n",
    "если выборочная средняя M = 80, а объем выборки n = 256."
   ]
  },
  {
   "cell_type": "markdown",
   "id": "3d9ead62",
   "metadata": {},
   "source": [
    "Поскольку нам известно среднее квадратическое отклонение генеральной совокупности $\\sigma=16$,то для расчета 95%-го доверительного интервала будем использовать $Z$-критерий. И границы доверительного интервала расчитаем по формуле:\n",
    "$$\\displaystyle\\bar X\\pm z_{\\alpha/2}\\cdot\\frac{\\sigma}{\\sqrt n}$$\n",
    "$\\bar X=M=80$\n",
    "$z_{\\alpha/2}$ - табличное значение $Z$-критерия, \n",
    "$\\sigma=16$-среднее квадратическое отклонение генеральной совокупности\n",
    "$n=256$ - объем выборки"
   ]
  },
  {
   "cell_type": "code",
   "execution_count": 1,
   "id": "1e645a9e",
   "metadata": {},
   "outputs": [
    {
     "name": "stdout",
     "output_type": "stream",
     "text": [
      "95%-й доверительный интервал для оценки мат. ожидания генеральной совокупности: [78.04;81.96].\n"
     ]
    }
   ],
   "source": [
    "left=80-1.96*16/256**(1/2)\n",
    "right=80+1.96*16/256**(1/2)\n",
    "print(f'95%-й доверительный интервал для оценки мат. ожидания генеральной совокупности: [{left};{right}].')"
   ]
  },
  {
   "cell_type": "markdown",
   "id": "414462c2",
   "metadata": {},
   "source": [
    "Задача 2. В результате 10 независимых измерений некоторой величины X, выполненных с одинаковой точностью,получены опытные данные:\n",
    "6.9, 6.1, 6.2, 6.8, 7.5, 6.3, 6.4, 6.9, 6.7, 6.1\n",
    "Предполагая, что результаты измерений подчинены нормальному закону распределения вероятностей,оценить истинное значение величины X при помощи доверительного интервала,покрывающего это значение с доверительной вероятностью 0,95."
   ]
  },
  {
   "cell_type": "markdown",
   "id": "ddd5bdad",
   "metadata": {},
   "source": [
    "Поскольку из условия задачи нам ничего не известно ни о мат. ожидании генеральной совокупности ни о среднем квадратическом отклонении для генеральной совокупности, то для расчета $95\\%$-го доверительного интервала будем использовать \n",
    "$t$-критерий, и формулу:$$\\displaystyle\\bar X\\pm t_{\\alpha/2}\\cdot\\frac{\\sigma_{несмещ}}{\\sqrt{n}}$$, где\n",
    "$\\sigma_{несмещ}$-несмещённое среднее квадратическое отклонение выборки,\n",
    "$n$ -размер выборки\n"
   ]
  },
  {
   "cell_type": "code",
   "execution_count": 2,
   "id": "2d8a8425",
   "metadata": {},
   "outputs": [],
   "source": [
    "import numpy as np"
   ]
  },
  {
   "cell_type": "code",
   "execution_count": 3,
   "id": "4000e136",
   "metadata": {},
   "outputs": [
    {
     "name": "stdout",
     "output_type": "stream",
     "text": [
      "Среднее выборочное:  6.59,\n",
      "Размер выборки n=10,\n",
      "Среднее квадратическое отклонение по выборке(несмещенное):  0.45.\n"
     ]
    }
   ],
   "source": [
    "arr=np.array([6.9, 6.1, 6.2, 6.8, 7.5, 6.3, 6.4, 6.9, 6.7, 6.1])\n",
    "print(f'Среднее выборочное: {np.mean(arr): .2f},\\n'\n",
    "      f'Размер выборки n={len(arr)},\\n'\n",
    "      f'Среднее квадратическое отклонение по выборке(несмещенное): {np.std(arr, ddof=1): .2f}.'\n",
    "     )"
   ]
  },
  {
   "cell_type": "code",
   "execution_count": 4,
   "id": "264c1fec",
   "metadata": {},
   "outputs": [],
   "source": [
    "import scipy.stats as stats"
   ]
  },
  {
   "cell_type": "code",
   "execution_count": 5,
   "id": "0a88f059",
   "metadata": {},
   "outputs": [
    {
     "name": "stdout",
     "output_type": "stream",
     "text": [
      "Табличное значение t-критерия для 95%-го доверительного интервала данной выборки:  2.262\n"
     ]
    }
   ],
   "source": [
    "def t_table(confidens, len_array):\n",
    "    alpha=(1-confidens)\n",
    "    return stats.t.ppf(1-alpha/2, len_array-1)\n",
    "print(f'Табличное значение t-критерия для 95%-го доверительного интервала данной выборки: {t_table(0.95, len(arr)): .3f}')"
   ]
  },
  {
   "cell_type": "markdown",
   "id": "6ac147e5",
   "metadata": {},
   "source": [
    "Итоговая функция для расчета доверительного интервала:"
   ]
  },
  {
   "cell_type": "code",
   "execution_count": 7,
   "id": "18370fbc",
   "metadata": {},
   "outputs": [
    {
     "name": "stdout",
     "output_type": "stream",
     "text": [
      "95%-й доверительный интервал для истинного значения Х: (6.268, 6.912).\n"
     ]
    }
   ],
   "source": [
    "def confidens_int(arr, confidens):\n",
    "    return round(np.mean(arr)-t_table(confidens,len(arr))*np.std(arr, ddof=1)/len(arr)**0.5,3), \\\n",
    "           round(np.mean(arr)+t_table(confidens,len(arr))*np.std(arr, ddof=1)/len(arr)**0.5,3)\n",
    "\n",
    "print(f'95%-й доверительный интервал для истинного значения Х: {confidens_int(arr, 0.95)}.')"
   ]
  },
  {
   "cell_type": "markdown",
   "id": "0bee82df",
   "metadata": {},
   "source": [
    "Задача 3. Рост дочерей 175, 167, 154, 174, 178, 148, 160, 167, 169, 170\n",
    "\n",
    "Рост матерей 178, 165, 165, 173, 168, 155, 160, 164, 178, 175\n",
    "\n",
    "Используя эти данные построить 95% доверительный интервал для разности среднего\n",
    "роста родителей и детей."
   ]
  },
  {
   "cell_type": "markdown",
   "id": "2580ba54",
   "metadata": {},
   "source": [
    "Интервальная оценка для разности средних арифметических  расчитывается по формуле:"
   ]
  },
  {
   "cell_type": "markdown",
   "id": "ee58ce3e",
   "metadata": {},
   "source": [
    "$$\\bar{x}_1 - \\bar{x}2 \\pm t{\\frac{\\alpha}{2}} \\sqrt{\\frac{s_1^2}{n_1} + \\frac{s_2^2}{n_2}}$$,где:"
   ]
  },
  {
   "cell_type": "markdown",
   "id": "d8df3e57",
   "metadata": {},
   "source": [
    "$$\\bar{x}_1$$  - среднее арифметическое в группе 1\n",
    "$$\\bar{x}_2$$  - среднее арифметическое в группе 2\n",
    "$$s_1^2$$ -дисперсия в группе 1\n",
    "$$s_2^2$$ -дисперсия в группе 2\n",
    "$$n_1$$ - число элементов в группе 1\n",
    "$$n_2$$ - число элементов в группе 2"
   ]
  },
  {
   "cell_type": "code",
   "execution_count": 9,
   "id": "f060e5dd",
   "metadata": {},
   "outputs": [
    {
     "name": "stdout",
     "output_type": "stream",
     "text": [
      " 95% доверительный интервал для разности среднего роста родителей и детей: [-6.27, 10.07]\n"
     ]
    }
   ],
   "source": [
    "mothers = np.array([178, 165, 165, 173, 168, 155, 160, 164, 178, 175])\n",
    "daughters = np.array([175, 167, 154, 174, 178, 148, 160, 167, 169, 170])\n",
    "\n",
    "difference_of_means = np.mean(mothers) - np.mean(daughters)\n",
    "standard_error = np.sqrt(np.var(mothers, ddof=1)/len(mothers) + np.var(daughters, ddof=1)/len(daughters))\n",
    "t_critical = stats.t.ppf(0.975, len(mothers) + len(daughters) - 2)\n",
    "l_border = difference_of_means - t_critical * standard_error\n",
    "r_border = difference_of_means + t_critical * standard_error\n",
    "\n",
    "print(f' 95% доверительный интервал для разности среднего роста родителей и детей: [{l_border:.2f}, {r_border:.2f}]')"
   ]
  },
  {
   "cell_type": "code",
   "execution_count": null,
   "id": "52a85319",
   "metadata": {},
   "outputs": [],
   "source": []
  }
 ],
 "metadata": {
  "kernelspec": {
   "display_name": "Python 3 (ipykernel)",
   "language": "python",
   "name": "python3"
  },
  "language_info": {
   "codemirror_mode": {
    "name": "ipython",
    "version": 3
   },
   "file_extension": ".py",
   "mimetype": "text/x-python",
   "name": "python",
   "nbconvert_exporter": "python",
   "pygments_lexer": "ipython3",
   "version": "3.9.13"
  }
 },
 "nbformat": 4,
 "nbformat_minor": 5
}
