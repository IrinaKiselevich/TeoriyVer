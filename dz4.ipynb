{
 "cells": [
  {
   "cell_type": "markdown",
   "id": "f443cce6",
   "metadata": {},
   "source": [
    "Задача 1. Случайная непрерывная величина A имеет равномерное распределение на\n",
    "промежутке (200, 800].\n",
    "Найдите ее среднее значение и дисперсию.\n",
    "Используем формулы для определения мат. ожидания и дисперсии для случайной непрерывной величины:\n",
    "Математическое ожидание :$\\displaystyle\\text {Математическое ожидание: }M(X)=\\frac{a+b}{2}\\\\\\displaystyle\\text {Дисперсия: }D(X)=\\frac{(b-a)^2}{12}$"
   ]
  },
  {
   "cell_type": "code",
   "execution_count": 1,
   "id": "3fdbaa20",
   "metadata": {},
   "outputs": [],
   "source": [
    "import math\n",
    "import scipy.stats as st"
   ]
  },
  {
   "cell_type": "code",
   "execution_count": 3,
   "id": "0cbb13b0",
   "metadata": {
    "scrolled": true
   },
   "outputs": [
    {
     "name": "stdout",
     "output_type": "stream",
     "text": [
      "Мат. ожидание:500.0\n"
     ]
    }
   ],
   "source": [
    "M = (200+800)/2\n",
    "print(f\"Мат. ожидание:{M}\")"
   ]
  },
  {
   "cell_type": "code",
   "execution_count": 4,
   "id": "b7e31be8",
   "metadata": {},
   "outputs": [
    {
     "name": "stdout",
     "output_type": "stream",
     "text": [
      "Дисперсия : 30000.0\n"
     ]
    }
   ],
   "source": [
    "D = (800-200)**2/12\n",
    "print(f\"Дисперсия : {D}\")"
   ]
  },
  {
   "cell_type": "markdown",
   "id": "9c356414",
   "metadata": {},
   "source": [
    "Задача 2. О случайной непрерывной равномерно распределенной величине B известно, что ее\n",
    "дисперсия равна 0.2.\n",
    "Можно ли найти правую границу величины B и ее среднее значение зная, что левая\n",
    "граница равна 0.5?\n",
    "Если да, найдите ее."
   ]
  },
  {
   "cell_type": "markdown",
   "id": "a8db8ec8",
   "metadata": {},
   "source": [
    "Зная, что дисперсия случайной непрерывной равномерно распределённой на отрезке(a;b)величины B находится по формуле:\n",
    "$\\displaystyle D(B)=\\frac{(b-a)^2}{12}$\n",
    "Найдем правую границу $b$ величины $B$ из уравнения\n",
    "$\\displaystyle \\frac{(b-0.5)^2}{12}=0.2\\\\b-0.5=\\sqrt{2.4}\\\\b=0.5+\\sqrt{2.4}$\n",
    "И найдем среднее значение по формуле:\n",
    "$\\displaystyle M(B)=\\frac{a+b}{2}$"
   ]
  },
  {
   "cell_type": "code",
   "execution_count": 5,
   "id": "b30e74cc",
   "metadata": {},
   "outputs": [
    {
     "name": "stdout",
     "output_type": "stream",
     "text": [
      "Левая граница распределения величины В - b =  2.049\n",
      "Среднее значение В на промежутке (0.5;  2.049) M(B) =  1.275\n"
     ]
    }
   ],
   "source": [
    "b=0.5+2.4**(1/2)\n",
    "print(f'Левая граница распределения величины В - b = {b: .3f}\\n'\n",
    "      f'Среднее значение В на промежутке (0.5; {b: .3f}) M(B) = {(b+0.5)/2: .3f}'     \n",
    "     )"
   ]
  },
  {
   "cell_type": "markdown",
   "id": "137954b1",
   "metadata": {},
   "source": [
    "3.Непрерывная случайная величина X распределена нормально и задана плотностью\n",
    "распределения\n",
    "f(x) = (1 / (4 * sqrt(2pi))) * exp((-(x+2)**2) / 32)\n",
    "Найдите:\n",
    "а). M(X)\n",
    "б). D(X)\n",
    "в). std(X) (среднее квадратичное отклонение)"
   ]
  },
  {
   "cell_type": "markdown",
   "id": "163a6f78",
   "metadata": {},
   "source": [
    "#a).M(x)=a,если плотность распределенияf(x) = (1 / (4 * sqrt(2pi))) * exp((-(x+2)**2) / 32),тогда\n",
    "M(x)=-2\n",
    "#б).D(x)=sigma^2=4^2=16\n",
    "#в).std(X)=4\n"
   ]
  },
  {
   "cell_type": "markdown",
   "id": "78dc8bf3",
   "metadata": {},
   "source": []
  },
  {
   "cell_type": "markdown",
   "id": "f5e623fc",
   "metadata": {},
   "source": [
    "Задача 4. Рост взрослого населения города X имеет нормальное распределение, причем, средний рост равен 174 см, а среднее квадратическое отклонение равно 8 см. посчитайте, какова вероятность того, что случайным образом выбранный взрослый человек имеет рост:\n",
    "1. больше 182 см?\n",
    "2. больше 190 см?\n",
    "3. от 166 см до 190 см?\n",
    "4. от 166 см до 182 см?\n",
    "5. от 158 см до 190 см?\n",
    "6. не выше 150 см или не ниже 190 см?\n",
    "7. не выше 150 см или не ниже 198 см?\n",
    "8. ниже 166 см?\n",
    "\n",
    "Задачу можно решить двумя способами: без использования сторонних библиотек (numpy, scipy, pandas и пр.), а затем проверить себя с помощью встроенных функций"
   ]
  },
  {
   "cell_type": "code",
   "execution_count": 9,
   "id": "cb776168",
   "metadata": {},
   "outputs": [
    {
     "name": "stdout",
     "output_type": "stream",
     "text": [
      "а) больше 182 см: 0.15865525393145707\n",
      "б) больше 190 см: 0.02275013194817921\n",
      "в) от 166 см до 190 см: 0.8185946141203637\n",
      "г) от 166 см до 182 см: 0.6826894921370859\n",
      "д) от 158 см до 190 см: 0.9544997361036416\n",
      "е) не выше 150 см или не ниже 190 см: 0.0241000299798093\n",
      "ж) не выше 150 см или не ниже 198 см: 0.0026997960632601965\n",
      "з) ниже 166 см: 0.15865525393145707\n"
     ]
    }
   ],
   "source": [
    "hight = st.norm(loc=174, scale=8)\n",
    "result1 = 1 - hight.cdf(182)\n",
    "result2 = 1 - hight.cdf(190)\n",
    "result3 = hight.cdf(190)-hight.cdf(166)\n",
    "result4 = hight.cdf(182)-hight.cdf(166)\n",
    "result5 = hight.cdf(190)-hight.cdf(158)\n",
    "result6 = hight.cdf(150) + (1 - hight.cdf(190))\n",
    "result7 = hight.cdf(150) + (1 - hight.cdf(198))\n",
    "result8 = hight.cdf(166)\n",
    "print(f\"а) больше 182 см: {result1}\")\n",
    "print(f\"б) больше 190 см: {result2}\")\n",
    "print(f\"в) от 166 см до 190 см: {result3}\")\n",
    "print(f\"г) от 166 см до 182 см: {result4}\")\n",
    "print(f\"д) от 158 см до 190 см: {result5}\")\n",
    "print(f\"е) не выше 150 см или не ниже 190 см: {result6}\")\n",
    "print(f\"ж) не выше 150 см или не ниже 198 см: {result7}\")\n",
    "print(f\"з) ниже 166 см: {result8}\")"
   ]
  },
  {
   "cell_type": "markdown",
   "id": "673d6fc0",
   "metadata": {},
   "source": [
    "Задача 5. На сколько сигм (средних квадратичных отклонений) отклоняется рост человека,\n",
    "равный 190 см, от\n",
    "математического ожидания роста в популяции, в которой M(X) = 178 см и D(X) = 25 кв.см?"
   ]
  },
  {
   "cell_type": "markdown",
   "id": "335842fb",
   "metadata": {},
   "source": [
    "Воспользуемся формулой расчета $Z$:\n",
    "$$\\displaystyle Z=\\frac{X-\\bar x}{\\sigma}=\\frac{190-178}{\\sqrt{25}}=\\frac{12}{5}$$\n",
    "    "
   ]
  },
  {
   "cell_type": "code",
   "execution_count": 15,
   "id": "232cf9dc",
   "metadata": {},
   "outputs": [
    {
     "name": "stdout",
     "output_type": "stream",
     "text": [
      "Рост человека, равный 190 см, отклоняется от математического ожидания роста в популяции на 2.4 сигм.\n"
     ]
    }
   ],
   "source": [
    "Z=(190-178)/25**(1/2)\n",
    "print(f'Рост человека, равный 190 см, отклоняется от математического ожидания роста в популяции на {Z} сигм.')"
   ]
  },
  {
   "cell_type": "code",
   "execution_count": null,
   "id": "25be6bbc",
   "metadata": {},
   "outputs": [],
   "source": []
  }
 ],
 "metadata": {
  "kernelspec": {
   "display_name": "Python 3 (ipykernel)",
   "language": "python",
   "name": "python3"
  },
  "language_info": {
   "codemirror_mode": {
    "name": "ipython",
    "version": 3
   },
   "file_extension": ".py",
   "mimetype": "text/x-python",
   "name": "python",
   "nbconvert_exporter": "python",
   "pygments_lexer": "ipython3",
   "version": "3.9.13"
  }
 },
 "nbformat": 4,
 "nbformat_minor": 5
}
