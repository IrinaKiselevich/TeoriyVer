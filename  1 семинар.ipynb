{
 "cells": [
  {
   "cell_type": "markdown",
   "id": "c95689ef",
   "metadata": {},
   "source": [
    "a) В колоде из 52 карт 52/4=13 карт одной масти.Воспользуемся формулой подсчета количества сочетаний по элементов из множества\n",
    " И классической формулой вероятности\n",
    " в нашем случае -т.е. количество способов извлечь 4 карты из 52, а, способов извлечь 4 карты одной масти.\n"
   ]
  },
  {
   "cell_type": "code",
   "execution_count": 4,
   "id": "10c38c1e",
   "metadata": {},
   "outputs": [],
   "source": [
    "from math import factorial\n",
    "def combinations(n, k):\n",
    "    return int(factorial(n) / (factorial(k) * factorial(n - k))) "
   ]
  },
  {
   "cell_type": "code",
   "execution_count": 5,
   "id": "6bb9f5b9",
   "metadata": {},
   "outputs": [],
   "source": [
    "#Вычислим m"
   ]
  },
  {
   "cell_type": "code",
   "execution_count": 6,
   "id": "a17a39a0",
   "metadata": {},
   "outputs": [
    {
     "name": "stdout",
     "output_type": "stream",
     "text": [
      "m = 715\n"
     ]
    }
   ],
   "source": [
    "m=combinations(13, 4)\n",
    "print(f'm = {m}')"
   ]
  },
  {
   "cell_type": "code",
   "execution_count": 7,
   "id": "82e7529d",
   "metadata": {},
   "outputs": [],
   "source": [
    "#Вычислим n"
   ]
  },
  {
   "cell_type": "code",
   "execution_count": 8,
   "id": "b79f2304",
   "metadata": {},
   "outputs": [
    {
     "name": "stdout",
     "output_type": "stream",
     "text": [
      "n = 270725\n"
     ]
    }
   ],
   "source": [
    "n=combinations(52, 4)\n",
    "print(f'n = {n}')"
   ]
  },
  {
   "cell_type": "code",
   "execution_count": 9,
   "id": "7068a5fb",
   "metadata": {},
   "outputs": [],
   "source": [
    "#Найдем вероятность что все 4 карты крести"
   ]
  },
  {
   "cell_type": "code",
   "execution_count": 10,
   "id": "2fc0eefc",
   "metadata": {},
   "outputs": [
    {
     "name": "stdout",
     "output_type": "stream",
     "text": [
      "P(4 крести) = 0.0026\n"
     ]
    }
   ],
   "source": [
    "P=m/n\n",
    "print(f'P(4 крести) = {round(P,4)}')"
   ]
  },
  {
   "cell_type": "code",
   "execution_count": 11,
   "id": "63366094",
   "metadata": {},
   "outputs": [],
   "source": [
    "#б)"
   ]
  },
  {
   "cell_type": "code",
   "execution_count": 12,
   "id": "8b110332",
   "metadata": {},
   "outputs": [
    {
     "name": "stdout",
     "output_type": "stream",
     "text": [
      "n = 270725\n"
     ]
    }
   ],
   "source": [
    "n=combinations(52, 4)\n",
    "print(f'n = {n}')"
   ]
  },
  {
   "cell_type": "code",
   "execution_count": 13,
   "id": "1f297f97",
   "metadata": {},
   "outputs": [
    {
     "name": "stdout",
     "output_type": "stream",
     "text": [
      "m = 76145\n"
     ]
    }
   ],
   "source": [
    "m=sum([combinations(4,1)*combinations(48,3),combinations(4,2)*combinations(48,2),combinations(4,3)*combinations(48,1),1])\n",
    "print(f'm = {m}')"
   ]
  },
  {
   "cell_type": "code",
   "execution_count": 14,
   "id": "2e6599d7",
   "metadata": {},
   "outputs": [
    {
     "name": "stdout",
     "output_type": "stream",
     "text": [
      "P(хотя бы 1 туз) = 0.2813\n"
     ]
    }
   ],
   "source": [
    "P=m/n\n",
    "print(f'P(хотя бы 1 туз) = {round(P,4)}')"
   ]
  },
  {
   "cell_type": "markdown",
   "id": "396c2f80",
   "metadata": {},
   "source": [
    "2) На входной двери подъезда установлен кодовый замок, содержащий десять кнопок с цифрами от 0 до 9. Код содержит три цифры, которые нужно нажать одновременно. Какова вероятность того, что человек, не знающий код, откроет дверь с первой попытки?\n",
    "Так как кнопки нажимаются одновременно, то порядок не важен, и для формулы вероятности P(A)=m/n\n",
    "общее число исходов будет определяться количеством сочетаний 3-х элементов из 10,n=Cпо трем из десяти, а количество благоприятных исходов m=1-замок открылся. Вычислим:\n"
   ]
  },
  {
   "cell_type": "code",
   "execution_count": 15,
   "id": "e1505c5b",
   "metadata": {},
   "outputs": [
    {
     "name": "stdout",
     "output_type": "stream",
     "text": [
      "P(открыть с первой попытки) = 0.0083\n"
     ]
    }
   ],
   "source": [
    "P=1/combinations(10,3)\n",
    "print(f'P(открыть с первой попытки) = {round(P,4)}')"
   ]
  },
  {
   "cell_type": "markdown",
   "id": "ff58f9c1",
   "metadata": {},
   "source": [
    "В ящике имеется 15 деталей, из которых 9 окрашены. Рабочий случайным образом извлекает 3 детали. Какова вероятность того, что все 3 извлеченные детали окрашены?"
   ]
  },
  {
   "cell_type": "markdown",
   "id": "1ccd7ed3",
   "metadata": {},
   "source": [
    "Общее количество исходов будет определяться количеством сочетаний 3 деталей из 15, \n",
    "а количество благоприятных исходов - количеством сочетаний 3-х окрашенных деталей из 9 \n",
    "Вычислим:"
   ]
  },
  {
   "cell_type": "code",
   "execution_count": 17,
   "id": "f093bd0b",
   "metadata": {},
   "outputs": [
    {
     "name": "stdout",
     "output_type": "stream",
     "text": [
      "P(3 из 3-х окрашены) = 0.1846\n"
     ]
    }
   ],
   "source": [
    "print(f'P(3 из 3-х окрашены) = {round(9/15*8/14*7/13,4)}')"
   ]
  },
  {
   "cell_type": "markdown",
   "id": "72b14674",
   "metadata": {},
   "source": [
    "В лотерее 100 билетов. Из них 2 выигрышных. Какова вероятность того, что 2 приобретенных билета окажутся выигрышными?\n",
    "Вероятность ,что оба выигрышные = 1/100*1/99"
   ]
  },
  {
   "cell_type": "code",
   "execution_count": 18,
   "id": "26a9a99a",
   "metadata": {},
   "outputs": [
    {
     "name": "stdout",
     "output_type": "stream",
     "text": [
      "P(оба выигрышных = 0.0002)\n"
     ]
    }
   ],
   "source": [
    "P=1/combinations(100,2)\n",
    "print(f'P(оба выигрышных = {round(P,4)})')"
   ]
  },
  {
   "cell_type": "code",
   "execution_count": null,
   "id": "d5570ae1",
   "metadata": {},
   "outputs": [],
   "source": []
  }
 ],
 "metadata": {
  "kernelspec": {
   "display_name": "Python 3 (ipykernel)",
   "language": "python",
   "name": "python3"
  },
  "language_info": {
   "codemirror_mode": {
    "name": "ipython",
    "version": 3
   },
   "file_extension": ".py",
   "mimetype": "text/x-python",
   "name": "python",
   "nbconvert_exporter": "python",
   "pygments_lexer": "ipython3",
   "version": "3.9.13"
  }
 },
 "nbformat": 4,
 "nbformat_minor": 5
}
