{
 "cells": [
  {
   "cell_type": "markdown",
   "id": "db8a193d",
   "metadata": {},
   "source": [
    "Провести дисперсионный анализ для определения того, есть ли различия среднего роста среди взрослых футболистов, хоккеистов и штангистов.\n",
    "Даны значения роста в трех группах случайно выбранных спортсменов:\n",
    "\n",
    "Футболисты: 173, 175, 180, 178, 177, 185, 183, 182.\n",
    "\n",
    "Хоккеисты: 177, 179, 180, 188, 177, 172, 171, 184, 180.\n",
    "\n",
    "Штангисты: 172, 173, 169, 177, 166, 180, 178, 177, 172, 166, 170."
   ]
  },
  {
   "cell_type": "code",
   "execution_count": 1,
   "id": "86fbfdfe",
   "metadata": {},
   "outputs": [],
   "source": [
    "import numpy as np\n",
    "import pandas as pd\n",
    "from scipy import stats"
   ]
  },
  {
   "cell_type": "markdown",
   "id": "fc32e6e5",
   "metadata": {},
   "source": [
    "Сформулируем нулевую гипотезу:\n",
    "$H0 : \\mu_1=\\mu_2=\\mu_3$ - средний рост спортсмена не зависит от вида спорта, которым он занимается.\n",
    "Альтернативная гипотеза:\n",
    "$H1: \\mu_1\\neq\\mu_2\\neq\\mu_3$- средний рост спортсмена зависит от вида спорта, которым он занимается."
   ]
  },
  {
   "cell_type": "code",
   "execution_count": 2,
   "id": "58bff475",
   "metadata": {},
   "outputs": [],
   "source": [
    "football=np.array([173, 175, 180, 178, 177, 185, 183, 182])\n",
    "hockey=np.array([177, 179, 180, 188, 177, 172, 171, 184, 180])\n",
    "weightlifting=np.array([172, 173, 169, 177, 166, 180, 178, 177, 172, 166, 170])\n"
   ]
  },
  {
   "cell_type": "markdown",
   "id": "ac8c2701",
   "metadata": {},
   "source": [
    "Воспользуемся встроенным методом однофакторного дисперсионного анализа библиотеки $scipy$:"
   ]
  },
  {
   "cell_type": "code",
   "execution_count": 3,
   "id": "19f3f5d5",
   "metadata": {},
   "outputs": [
    {
     "data": {
      "text/plain": [
       "F_onewayResult(statistic=5.500053450812596, pvalue=0.010482206918698694)"
      ]
     },
     "execution_count": 3,
     "metadata": {},
     "output_type": "execute_result"
    }
   ],
   "source": [
    "stats.f_oneway(football, hockey, weightlifting)"
   ]
  },
  {
   "cell_type": "markdown",
   "id": "510baea8",
   "metadata": {},
   "source": [
    "Получили значение pvalue=0.01 при  $\\alpha=0.05$ отвергаем нулевую гипотезу. Принимаем альтернативную гипотезу, следовательно средний рост спортсмена зависит от вида спорта, которым он занимается."
   ]
  }
 ],
 "metadata": {
  "kernelspec": {
   "display_name": "Python 3 (ipykernel)",
   "language": "python",
   "name": "python3"
  },
  "language_info": {
   "codemirror_mode": {
    "name": "ipython",
    "version": 3
   },
   "file_extension": ".py",
   "mimetype": "text/x-python",
   "name": "python",
   "nbconvert_exporter": "python",
   "pygments_lexer": "ipython3",
   "version": "3.10.9"
  }
 },
 "nbformat": 4,
 "nbformat_minor": 5
}
