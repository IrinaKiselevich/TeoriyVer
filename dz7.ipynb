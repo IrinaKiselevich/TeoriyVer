{
 "cells": [
  {
   "cell_type": "markdown",
   "id": "4037cc0f",
   "metadata": {},
   "source": [
    "Выберете тест и проверьте, есть ли различия между выборками:\n",
    "Задача 1. Даны две независимые выборки. Не соблюдается условие нормальности\n",
    "x1 380,420, 290\n",
    "y1 140,360,200,900\n",
    "Сделайте вывод по результатам, полученным с помощью функции, имеются ли статистические различия между группами?"
   ]
  },
  {
   "cell_type": "code",
   "execution_count": 1,
   "id": "63063b5f",
   "metadata": {},
   "outputs": [],
   "source": [
    "import numpy as np\n",
    "import scipy.stats as stats"
   ]
  },
  {
   "cell_type": "code",
   "execution_count": 2,
   "id": "1409a737",
   "metadata": {},
   "outputs": [
    {
     "data": {
      "text/plain": [
       "MannwhitneyuResult(statistic=8.0, pvalue=0.6285714285714286)"
      ]
     },
     "execution_count": 2,
     "metadata": {},
     "output_type": "execute_result"
    }
   ],
   "source": [
    "x1=np.array([380,420,290])\n",
    "y1=np.array([140,360,200,900])\n",
    "alpha=0.05\n",
    "stats.mannwhitneyu(x1, y1)"
   ]
  },
  {
   "cell_type": "markdown",
   "id": "5762f492",
   "metadata": {},
   "source": [
    "$pvalue>\\alpha(0.05)$ $H_0$ не отвергаем,статистически значимых различий нет"
   ]
  },
  {
   "cell_type": "markdown",
   "id": "f12a98c4",
   "metadata": {},
   "source": [
    "Задача 2. Исследовалось влияние препарата на уровень давления пациентов. Сначала\n",
    "измерялось давление до приема препарата, потом через 10 минут и через 30 минут. Есть\n",
    "ли статистически значимые различия между измерениями давления? В выборках не соблюдается условие нормальности.\n",
    "1е измерение до приема препарата: 150, 160, 165, 145, 155\n",
    "2е измерение через 10 минут: 140, 155, 150, 130, 135\n",
    "3е измерение через 30 минут: 130, 130, 120, 130, 125"
   ]
  },
  {
   "cell_type": "code",
   "execution_count": 3,
   "id": "92a38cb5",
   "metadata": {},
   "outputs": [
    {
     "data": {
      "text/plain": [
       "FriedmanchisquareResult(statistic=9.578947368421062, pvalue=0.00831683351100441)"
      ]
     },
     "execution_count": 3,
     "metadata": {},
     "output_type": "execute_result"
    }
   ],
   "source": [
    "x1=np.array([150, 160, 165, 145, 155])\n",
    "x2=np.array([140, 155, 150, 130, 135])\n",
    "x3=np.array([130, 130, 120, 130, 125])\n",
    "alpha=0.05\n",
    "stats.friedmanchisquare(x1, x2, x3)"
   ]
  },
  {
   "cell_type": "markdown",
   "id": "f4f73a01",
   "metadata": {},
   "source": [
    "$𝑝𝑣𝑎𝑙𝑢𝑒<𝛼(0.05)$ $𝐻0$ отвергаем,препарат влияет на уровень давления"
   ]
  },
  {
   "cell_type": "markdown",
   "id": "f03b3f51",
   "metadata": {},
   "source": [
    "Задача 3. Сравните 1 и 2 е измерения, предполагая, что 3го измерения через 30 минут не было. Есть\n",
    "ли статистически значимые различия между измерениями давления?"
   ]
  },
  {
   "cell_type": "code",
   "execution_count": 4,
   "id": "b0810320",
   "metadata": {},
   "outputs": [
    {
     "data": {
      "text/plain": [
       "WilcoxonResult(statistic=0.0, pvalue=0.0625)"
      ]
     },
     "execution_count": 4,
     "metadata": {},
     "output_type": "execute_result"
    }
   ],
   "source": [
    "x1=np.array([150, 160, 165, 145, 155])\n",
    "x2=np.array([140, 155, 150, 130, 135])\n",
    "alpha=0.05\n",
    "stats.wilcoxon(x1, x2)"
   ]
  },
  {
   "cell_type": "markdown",
   "id": "7d24984b",
   "metadata": {},
   "source": [
    "$pvalue>\\alpha(0.05)$ $H_0$ не отвергаем,препарат не влияет на уровень давления"
   ]
  },
  {
   "cell_type": "markdown",
   "id": "bb4ccb20",
   "metadata": {},
   "source": [
    "Задача 4. Даны 3 группы учеников плавания. Не соблюдается условие нормальности.\n",
    "В 1 группе время на дистанцию 50 м составляют:\n",
    "56, 60, 62, 55, 71, 67, 59, 58, 64, 67\n",
    "Вторая группа : 57, 58, 69, 48, 72, 70, 68, 71, 50, 53\n",
    "Третья группа: 57, 67, 49, 48, 47, 55, 66, 51, 54\n",
    "Есть\n",
    "ли статистически значимые различия между группами?"
   ]
  },
  {
   "cell_type": "code",
   "execution_count": 5,
   "id": "6bccb461",
   "metadata": {},
   "outputs": [
    {
     "data": {
      "text/plain": [
       "KruskalResult(statistic=5.465564058257224, pvalue=0.0650380998590494)"
      ]
     },
     "execution_count": 5,
     "metadata": {},
     "output_type": "execute_result"
    }
   ],
   "source": [
    "x1=np.array([56, 60, 62, 55, 71, 67, 59, 58, 64, 67])\n",
    "x2=np.array([57, 58, 69, 48, 72, 70, 68, 71, 50, 53])\n",
    "x3=np.array([57, 67, 49, 48, 47, 55, 66, 51, 54])\n",
    "alpha=0.05\n",
    "stats.kruskal(x1,x2,x3)"
   ]
  },
  {
   "cell_type": "markdown",
   "id": "74153331",
   "metadata": {},
   "source": [
    "$pvalue>\\alpha(0.05)$ $H_0$ не отвергаем, статистически значимых различий нет"
   ]
  },
  {
   "cell_type": "markdown",
   "id": "876d5ee4",
   "metadata": {},
   "source": [
    "Задача 5. Заявляется, что партия изготавливается со средним арифметическим 2,5 см. Проверить\n",
    "данную гипотезу, если известно, что размеры изделий подчинены нормальному закону\n",
    "распределения. Объем выборки 10, уровень статистической значимости 5%\n",
    "2.51, 2.35, 2.74, 2.56, 2.40, 2.36, 2.65, 2.7, 2.67, 2.34"
   ]
  },
  {
   "cell_type": "markdown",
   "id": "fe0bb898",
   "metadata": {},
   "source": [
    "Сформулируем гипотезы:\n",
    "\n",
    "$H_0$$М = 2,5$\n",
    "\n",
    "$H_1$$М \\neq 2.5$"
   ]
  },
  {
   "cell_type": "markdown",
   "id": "f7e6585f",
   "metadata": {},
   "source": [
    "Находим среднее арифметическое размеров изделий в выборке:  "
   ]
  },
  {
   "cell_type": "markdown",
   "id": "45089801",
   "metadata": {},
   "source": [
    "$\\overline{x} = \\frac{\\sum\\limits_{i=1}^{n} x_i}{n}$"
   ]
  },
  {
   "cell_type": "markdown",
   "id": "f08f074e",
   "metadata": {},
   "source": [
    "Находим стандартное отклонение:\n",
    "$s = \\sqrt{\\frac{\\sum\\limits_{i=1}^{n} (x_i - \\overline{x})^2}{n-1}}$"
   ]
  },
  {
   "cell_type": "markdown",
   "id": "54aec348",
   "metadata": {},
   "source": [
    "Вычисляем t-статистику:  "
   ]
  },
  {
   "cell_type": "markdown",
   "id": "1cc18eab",
   "metadata": {},
   "source": [
    "$$t = \\frac{\\overline{x} - 2.5}{\\frac{s}{\\sqrt{n}}}$$"
   ]
  },
  {
   "cell_type": "markdown",
   "id": "be576ea1",
   "metadata": {},
   "source": [
    "Определяем критическую область выборки для уровня статистической значимости 5%:  \n",
    "Сравниваем t-статистику с t-критическим. Если t-статистика попадает в критическую область, то нулевая гипотеза отвергается.  \n",
    "Делаем вывод:\n",
    "Если t-статистика меньше t-критического, то гипотеза не отвергается.  \n",
    "Если t-статистика больше t-критического, то гипотеза отвергается."
   ]
  },
  {
   "cell_type": "code",
   "execution_count": 14,
   "id": "acd3855b",
   "metadata": {},
   "outputs": [
    {
     "name": "stdout",
     "output_type": "stream",
     "text": [
      "Нулевая гипотеза не отвергается, партия изготавливается со средним арифметическим 2,5 см.\n"
     ]
    },
    {
     "data": {
      "text/plain": [
       "(2.5279999999999996,\n",
       " 0.1572542173961923,\n",
       " 0.5630613661802959,\n",
       " 1.8331129326536335)"
      ]
     },
     "execution_count": 14,
     "metadata": {},
     "output_type": "execute_result"
    }
   ],
   "source": [
    "alpha = 0.05\n",
    "razm = [2.51, 2.35, 2.74, 2.56, 2.40, 2.36, 2.65, 2.7, 2.67, 2.34]\n",
    "n = len(razm)\n",
    "mean = np.mean(razm)\n",
    "std = np.std(data, ddof=1)\n",
    "t_stat = (mean - 2.5) / (std / np.sqrt(10))\n",
    "t_critical = stats.t.ppf(1 - alpha, n-1)\n",
    "if t_stat < t_critical:\n",
    "    print(\"Нулевая гипотеза не отвергается, партия изготавливается со средним арифметическим 2,5 см.\")\n",
    "else:\n",
    "    print(\"Нулевая гипотеза отвергается, партия изготавливается со средним арифметическим не равным 2,5 см.\")\n",
    "    \n",
    "mean,std,t_stat,t_critical"
   ]
  }
 ],
 "metadata": {
  "kernelspec": {
   "display_name": "Python 3 (ipykernel)",
   "language": "python",
   "name": "python3"
  },
  "language_info": {
   "codemirror_mode": {
    "name": "ipython",
    "version": 3
   },
   "file_extension": ".py",
   "mimetype": "text/x-python",
   "name": "python",
   "nbconvert_exporter": "python",
   "pygments_lexer": "ipython3",
   "version": "3.9.13"
  }
 },
 "nbformat": 4,
 "nbformat_minor": 5
}
